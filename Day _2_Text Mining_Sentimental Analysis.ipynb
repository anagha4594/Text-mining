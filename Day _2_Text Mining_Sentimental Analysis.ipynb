{
 "cells": [
  {
   "cell_type": "markdown",
   "metadata": {},
   "source": [
    "### Sentiment analysis using VADER package\n",
    "### Topic Modelling(clustering)\n",
    "### Word2vec(Classification,word Embedding)\n",
    "\n",
    "# For Sentiment analysis using Vader we shud not do text cleaning processes"
   ]
  },
  {
   "cell_type": "code",
   "execution_count": 1,
   "metadata": {},
   "outputs": [],
   "source": [
    "# importing the basic libraries\n",
    "import numpy as np \n",
    "import pandas as pd\n",
    "import matplotlib.pyplot as plt\n",
    "import seaborn as sns\n",
    "%matplotlib inline\n",
    "import nltk"
   ]
  },
  {
   "cell_type": "markdown",
   "metadata": {},
   "source": [
    "## VADER package\n",
    "Varience Aware Dictionary & sEntiment Reasoner"
   ]
  },
  {
   "cell_type": "code",
   "execution_count": 2,
   "metadata": {},
   "outputs": [
    {
     "name": "stderr",
     "output_type": "stream",
     "text": [
      "C:\\Users\\HII\\Anaconda3\\lib\\site-packages\\nltk\\twitter\\__init__.py:20: UserWarning: The twython library has not been installed. Some functionality from the twitter package will not be available.\n",
      "  warnings.warn(\"The twython library has not been installed. \"\n"
     ]
    },
    {
     "data": {
      "text/plain": [
       "{'neg': 0.0, 'neu': 0.192, 'pos': 0.808, 'compound': 0.6369}"
      ]
     },
     "execution_count": 2,
     "metadata": {},
     "output_type": "execute_result"
    }
   ],
   "source": [
    "from nltk.sentiment import SentimentIntensityAnalyzer\n",
    "sentiment=SentimentIntensityAnalyzer()\n",
    "sentiment.polarity_scores('i love INDIA')"
   ]
  },
  {
   "cell_type": "markdown",
   "metadata": {},
   "source": [
    "presence positive/negative words, emotion words,puncutation,Capital letters,Boosting words like(very, much,not)\n",
    "\n",
    "\n",
    "neg- Negative intensity  \n",
    "neu- Neutral word intensity  -( for all neutral words the score by default will be 1)\n",
    "pos-positive word intendity   \n",
    "compound - overall score of the sentence (-1 to 1) around 1 positive  around -1 very negative\n"
   ]
  },
  {
   "cell_type": "code",
   "execution_count": 3,
   "metadata": {},
   "outputs": [
    {
     "data": {
      "text/plain": [
       "{'neg': 0.0, 'neu': 0.295, 'pos': 0.705, 'compound': 0.6988}"
      ]
     },
     "execution_count": 3,
     "metadata": {},
     "output_type": "execute_result"
    }
   ],
   "source": [
    "from nltk.sentiment import SentimentIntensityAnalyzer\n",
    "sentiment=SentimentIntensityAnalyzer()\n",
    "sentiment.polarity_scores('i love India !!')"
   ]
  },
  {
   "cell_type": "code",
   "execution_count": 4,
   "metadata": {},
   "outputs": [
    {
     "data": {
      "text/plain": [
       "0.12803687993289598"
      ]
     },
     "execution_count": 4,
     "metadata": {},
     "output_type": "execute_result"
    }
   ],
   "source": [
    "import math\n",
    "score=0.5\n",
    "alpha=15\n",
    "score/np.sqrt((score**2)+alpha)"
   ]
  },
  {
   "cell_type": "code",
   "execution_count": 5,
   "metadata": {},
   "outputs": [
    {
     "data": {
      "text/html": [
       "<div>\n",
       "<style scoped>\n",
       "    .dataframe tbody tr th:only-of-type {\n",
       "        vertical-align: middle;\n",
       "    }\n",
       "\n",
       "    .dataframe tbody tr th {\n",
       "        vertical-align: top;\n",
       "    }\n",
       "\n",
       "    .dataframe thead th {\n",
       "        text-align: right;\n",
       "    }\n",
       "</style>\n",
       "<table border=\"1\" class=\"dataframe\">\n",
       "  <thead>\n",
       "    <tr style=\"text-align: right;\">\n",
       "      <th></th>\n",
       "      <th>review</th>\n",
       "      <th>sentiment</th>\n",
       "    </tr>\n",
       "  </thead>\n",
       "  <tbody>\n",
       "    <tr>\n",
       "      <th>0</th>\n",
       "      <td>A very, very, very slow-moving, aimless movie ...</td>\n",
       "      <td>0</td>\n",
       "    </tr>\n",
       "    <tr>\n",
       "      <th>1</th>\n",
       "      <td>Not sure who was more lost - the flat characte...</td>\n",
       "      <td>0</td>\n",
       "    </tr>\n",
       "    <tr>\n",
       "      <th>2</th>\n",
       "      <td>Attempting artiness with black &amp; white and cle...</td>\n",
       "      <td>0</td>\n",
       "    </tr>\n",
       "    <tr>\n",
       "      <th>3</th>\n",
       "      <td>Very little music or anything to speak of.</td>\n",
       "      <td>0</td>\n",
       "    </tr>\n",
       "    <tr>\n",
       "      <th>4</th>\n",
       "      <td>The best scene in the movie was when Gerardo i...</td>\n",
       "      <td>1</td>\n",
       "    </tr>\n",
       "  </tbody>\n",
       "</table>\n",
       "</div>"
      ],
      "text/plain": [
       "                                              review  sentiment\n",
       "0  A very, very, very slow-moving, aimless movie ...          0\n",
       "1  Not sure who was more lost - the flat characte...          0\n",
       "2  Attempting artiness with black & white and cle...          0\n",
       "3       Very little music or anything to speak of.            0\n",
       "4  The best scene in the movie was when Gerardo i...          1"
      ]
     },
     "execution_count": 5,
     "metadata": {},
     "output_type": "execute_result"
    }
   ],
   "source": [
    "# reading the imdb reviews csv\n",
    "imdb=pd.read_csv('C:\\\\Users\\\\HII\\\\Desktop\\\\Text Mining\\\\10 Text Mining\\\\imdb_sentiment.csv')\n",
    "imdb.head()"
   ]
  },
  {
   "cell_type": "markdown",
   "metadata": {},
   "source": [
    "## Sentiment Analysis and polarity score for each words"
   ]
  },
  {
   "cell_type": "code",
   "execution_count": 6,
   "metadata": {},
   "outputs": [],
   "source": [
    "sentiment=SentimentIntensityAnalyzer()\n",
    "def get_sentiment(review):\n",
    "    compound=sentiment.polarity_scores(review)['compound']\n",
    "    return 0 if compound<0 else 1 # we converted the polarity into 0 and 1 to do comparision\n",
    "\n",
    "\n",
    "imdb['vader']=imdb['review'].apply(get_sentiment)\n"
   ]
  },
  {
   "cell_type": "code",
   "execution_count": 7,
   "metadata": {},
   "outputs": [
    {
     "data": {
      "text/plain": [
       "77.67379679144385"
      ]
     },
     "execution_count": 7,
     "metadata": {},
     "output_type": "execute_result"
    }
   ],
   "source": [
    "from sklearn.metrics import accuracy_score\n",
    "accuracy_score(imdb['sentiment'],imdb['vader'])*100"
   ]
  },
  {
   "cell_type": "markdown",
   "metadata": {},
   "source": [
    "# Prediction of sentiment for Hotstar reviews"
   ]
  },
  {
   "cell_type": "code",
   "execution_count": 8,
   "metadata": {},
   "outputs": [
    {
     "data": {
      "text/html": [
       "<div>\n",
       "<style scoped>\n",
       "    .dataframe tbody tr th:only-of-type {\n",
       "        vertical-align: middle;\n",
       "    }\n",
       "\n",
       "    .dataframe tbody tr th {\n",
       "        vertical-align: top;\n",
       "    }\n",
       "\n",
       "    .dataframe thead th {\n",
       "        text-align: right;\n",
       "    }\n",
       "</style>\n",
       "<table border=\"1\" class=\"dataframe\">\n",
       "  <thead>\n",
       "    <tr style=\"text-align: right;\">\n",
       "      <th></th>\n",
       "      <th>ID</th>\n",
       "      <th>UserName</th>\n",
       "      <th>Created_Date</th>\n",
       "      <th>Reviews</th>\n",
       "      <th>Lower_Case_Reviews</th>\n",
       "      <th>Sentiment_Manual_BP</th>\n",
       "      <th>Sentiment_Manual</th>\n",
       "      <th>Review_Length</th>\n",
       "      <th>DataSource</th>\n",
       "      <th>Year</th>\n",
       "      <th>Month</th>\n",
       "      <th>Date</th>\n",
       "      <th>Sentiment_Polarity</th>\n",
       "    </tr>\n",
       "  </thead>\n",
       "  <tbody>\n",
       "    <tr>\n",
       "      <th>0</th>\n",
       "      <td>1</td>\n",
       "      <td>NaN</td>\n",
       "      <td>8/10/2017</td>\n",
       "      <td>Hh</td>\n",
       "      <td>hh</td>\n",
       "      <td>Negative</td>\n",
       "      <td>Negative</td>\n",
       "      <td>2</td>\n",
       "      <td>Google_PlayStore</td>\n",
       "      <td>2017</td>\n",
       "      <td>8</td>\n",
       "      <td>10</td>\n",
       "      <td>Neutral</td>\n",
       "    </tr>\n",
       "    <tr>\n",
       "      <th>1</th>\n",
       "      <td>2</td>\n",
       "      <td>NaN</td>\n",
       "      <td>8/11/2017</td>\n",
       "      <td>No</td>\n",
       "      <td>no</td>\n",
       "      <td>Negative</td>\n",
       "      <td>Negative</td>\n",
       "      <td>2</td>\n",
       "      <td>Google_PlayStore</td>\n",
       "      <td>2017</td>\n",
       "      <td>8</td>\n",
       "      <td>11</td>\n",
       "      <td>Neutral</td>\n",
       "    </tr>\n",
       "    <tr>\n",
       "      <th>2</th>\n",
       "      <td>3</td>\n",
       "      <td>asadynwa</td>\n",
       "      <td>8/12/2017</td>\n",
       "      <td>@hotstar_helps during paymnt for premium subsc...</td>\n",
       "      <td>@hotstar_helps during paymnt for premium subsc...</td>\n",
       "      <td>Help</td>\n",
       "      <td>Negative</td>\n",
       "      <td>140</td>\n",
       "      <td>Twitter</td>\n",
       "      <td>2017</td>\n",
       "      <td>8</td>\n",
       "      <td>12</td>\n",
       "      <td>Negative</td>\n",
       "    </tr>\n",
       "    <tr>\n",
       "      <th>3</th>\n",
       "      <td>4</td>\n",
       "      <td>jineshroxx</td>\n",
       "      <td>8/11/2017</td>\n",
       "      <td>@hotstartweets I am currently on Jio network a...</td>\n",
       "      <td>@hotstartweets i am currently on jio network a...</td>\n",
       "      <td>Help</td>\n",
       "      <td>Negative</td>\n",
       "      <td>140</td>\n",
       "      <td>Twitter</td>\n",
       "      <td>2017</td>\n",
       "      <td>8</td>\n",
       "      <td>11</td>\n",
       "      <td>Positive</td>\n",
       "    </tr>\n",
       "    <tr>\n",
       "      <th>4</th>\n",
       "      <td>5</td>\n",
       "      <td>YaminiSachar</td>\n",
       "      <td>8/5/2017</td>\n",
       "      <td>@hotstartweets the episodes of Sarabhai vs Sar...</td>\n",
       "      <td>@hotstartweets the episodes of sarabhai vs sar...</td>\n",
       "      <td>Help</td>\n",
       "      <td>Negative</td>\n",
       "      <td>140</td>\n",
       "      <td>Twitter</td>\n",
       "      <td>2017</td>\n",
       "      <td>8</td>\n",
       "      <td>5</td>\n",
       "      <td>Neutral</td>\n",
       "    </tr>\n",
       "    <tr>\n",
       "      <th>5</th>\n",
       "      <td>6</td>\n",
       "      <td>BeingUsual</td>\n",
       "      <td>8/7/2017</td>\n",
       "      <td>@hotstartweets Not able 2 watch the latest epi...</td>\n",
       "      <td>@hotstartweets not able 2 watch the latest epi...</td>\n",
       "      <td>Help</td>\n",
       "      <td>Negative</td>\n",
       "      <td>139</td>\n",
       "      <td>Twitter</td>\n",
       "      <td>2017</td>\n",
       "      <td>8</td>\n",
       "      <td>7</td>\n",
       "      <td>Neutral</td>\n",
       "    </tr>\n",
       "    <tr>\n",
       "      <th>6</th>\n",
       "      <td>7</td>\n",
       "      <td>yashvi_singh</td>\n",
       "      <td>8/5/2017</td>\n",
       "      <td>Please allow RuPay or Maestro payment gateways...</td>\n",
       "      <td>please allow rupay or maestro payment gateways...</td>\n",
       "      <td>Help</td>\n",
       "      <td>Negative</td>\n",
       "      <td>139</td>\n",
       "      <td>Twitter</td>\n",
       "      <td>2017</td>\n",
       "      <td>8</td>\n",
       "      <td>5</td>\n",
       "      <td>Positive</td>\n",
       "    </tr>\n",
       "    <tr>\n",
       "      <th>7</th>\n",
       "      <td>8</td>\n",
       "      <td>bushrareal202</td>\n",
       "      <td>8/7/2017</td>\n",
       "      <td>@hotstar_helps why today s epi of #LoveKaHaiIn...</td>\n",
       "      <td>@hotstar_helps why today s epi of #lovekahaiin...</td>\n",
       "      <td>Help</td>\n",
       "      <td>Negative</td>\n",
       "      <td>138</td>\n",
       "      <td>Twitter</td>\n",
       "      <td>2017</td>\n",
       "      <td>8</td>\n",
       "      <td>7</td>\n",
       "      <td>Positive</td>\n",
       "    </tr>\n",
       "    <tr>\n",
       "      <th>8</th>\n",
       "      <td>9</td>\n",
       "      <td>sachinmittal331</td>\n",
       "      <td>8/8/2017</td>\n",
       "      <td>@hotstartweets #HotStarFraud I paid for the su...</td>\n",
       "      <td>@hotstartweets #hotstarfraud i paid for the su...</td>\n",
       "      <td>Help</td>\n",
       "      <td>Negative</td>\n",
       "      <td>138</td>\n",
       "      <td>Twitter</td>\n",
       "      <td>2017</td>\n",
       "      <td>8</td>\n",
       "      <td>8</td>\n",
       "      <td>Positive</td>\n",
       "    </tr>\n",
       "    <tr>\n",
       "      <th>9</th>\n",
       "      <td>10</td>\n",
       "      <td>ankush2887</td>\n",
       "      <td>8/5/2017</td>\n",
       "      <td>@hotstartweets i have a premium accnt at hotst...</td>\n",
       "      <td>@hotstartweets i have a premium accnt at hotst...</td>\n",
       "      <td>Help</td>\n",
       "      <td>Negative</td>\n",
       "      <td>138</td>\n",
       "      <td>Twitter</td>\n",
       "      <td>2017</td>\n",
       "      <td>8</td>\n",
       "      <td>5</td>\n",
       "      <td>Neutral</td>\n",
       "    </tr>\n",
       "  </tbody>\n",
       "</table>\n",
       "</div>"
      ],
      "text/plain": [
       "   ID         UserName Created_Date  \\\n",
       "0   1              NaN    8/10/2017   \n",
       "1   2              NaN    8/11/2017   \n",
       "2   3         asadynwa    8/12/2017   \n",
       "3   4       jineshroxx    8/11/2017   \n",
       "4   5     YaminiSachar     8/5/2017   \n",
       "5   6       BeingUsual     8/7/2017   \n",
       "6   7     yashvi_singh     8/5/2017   \n",
       "7   8    bushrareal202     8/7/2017   \n",
       "8   9  sachinmittal331     8/8/2017   \n",
       "9  10       ankush2887     8/5/2017   \n",
       "\n",
       "                                             Reviews  \\\n",
       "0                                                 Hh   \n",
       "1                                                 No   \n",
       "2  @hotstar_helps during paymnt for premium subsc...   \n",
       "3  @hotstartweets I am currently on Jio network a...   \n",
       "4  @hotstartweets the episodes of Sarabhai vs Sar...   \n",
       "5  @hotstartweets Not able 2 watch the latest epi...   \n",
       "6  Please allow RuPay or Maestro payment gateways...   \n",
       "7  @hotstar_helps why today s epi of #LoveKaHaiIn...   \n",
       "8  @hotstartweets #HotStarFraud I paid for the su...   \n",
       "9  @hotstartweets i have a premium accnt at hotst...   \n",
       "\n",
       "                                  Lower_Case_Reviews Sentiment_Manual_BP  \\\n",
       "0                                                 hh            Negative   \n",
       "1                                                 no            Negative   \n",
       "2  @hotstar_helps during paymnt for premium subsc...                Help   \n",
       "3  @hotstartweets i am currently on jio network a...                Help   \n",
       "4  @hotstartweets the episodes of sarabhai vs sar...                Help   \n",
       "5  @hotstartweets not able 2 watch the latest epi...                Help   \n",
       "6  please allow rupay or maestro payment gateways...                Help   \n",
       "7  @hotstar_helps why today s epi of #lovekahaiin...                Help   \n",
       "8  @hotstartweets #hotstarfraud i paid for the su...                Help   \n",
       "9  @hotstartweets i have a premium accnt at hotst...                Help   \n",
       "\n",
       "  Sentiment_Manual  Review_Length        DataSource  Year  Month  Date  \\\n",
       "0         Negative              2  Google_PlayStore  2017      8    10   \n",
       "1         Negative              2  Google_PlayStore  2017      8    11   \n",
       "2         Negative            140           Twitter  2017      8    12   \n",
       "3         Negative            140           Twitter  2017      8    11   \n",
       "4         Negative            140           Twitter  2017      8     5   \n",
       "5         Negative            139           Twitter  2017      8     7   \n",
       "6         Negative            139           Twitter  2017      8     5   \n",
       "7         Negative            138           Twitter  2017      8     7   \n",
       "8         Negative            138           Twitter  2017      8     8   \n",
       "9         Negative            138           Twitter  2017      8     5   \n",
       "\n",
       "  Sentiment_Polarity  \n",
       "0            Neutral  \n",
       "1            Neutral  \n",
       "2           Negative  \n",
       "3           Positive  \n",
       "4            Neutral  \n",
       "5            Neutral  \n",
       "6           Positive  \n",
       "7           Positive  \n",
       "8           Positive  \n",
       "9            Neutral  "
      ]
     },
     "execution_count": 8,
     "metadata": {},
     "output_type": "execute_result"
    }
   ],
   "source": [
    "data=pd.read_csv('C:\\\\Users\\\\HII\\\\Desktop\\\\Text Mining\\\\10 Text Mining\\\\hotstar.allreviews_Sentiments.csv')\n",
    "data.head(10)"
   ]
  },
  {
   "cell_type": "code",
   "execution_count": 9,
   "metadata": {},
   "outputs": [
    {
     "data": {
      "text/plain": [
       "(5053, 13)"
      ]
     },
     "execution_count": 9,
     "metadata": {},
     "output_type": "execute_result"
    }
   ],
   "source": [
    "data.shape"
   ]
  },
  {
   "cell_type": "code",
   "execution_count": 10,
   "metadata": {},
   "outputs": [
    {
     "data": {
      "text/plain": [
       "Neutral     34.395409\n",
       "Positive    34.296458\n",
       "Negative    31.308134\n",
       "Name: Sentiment_Manual, dtype: float64"
      ]
     },
     "execution_count": 10,
     "metadata": {},
     "output_type": "execute_result"
    }
   ],
   "source": [
    "# Sentiment distribution \n",
    "data.Sentiment_Manual.value_counts()/data.shape[0]*100"
   ]
  },
  {
   "cell_type": "markdown",
   "metadata": {},
   "source": [
    "- Apply vader package sentiment analyzer to predict for each review\n",
    "- from compound score return the following\n",
    "        - if coumpound score>0.05 return 'Positive'\n",
    "        - if coumpound score<0-.05 return 'Negative'\n",
    "        - else  return 'Neutral'"
   ]
  },
  {
   "cell_type": "code",
   "execution_count": 18,
   "metadata": {},
   "outputs": [
    {
     "name": "stdout",
     "output_type": "stream",
     "text": [
      "The accuracy score for Hotstar review sentiment prediction is : 55.03661191371463\n"
     ]
    }
   ],
   "source": [
    "# Sentiment Prediction \n",
    "\n",
    "def get_sentiment(review):\n",
    "    compound=sentiment.polarity_scores(review)['compound']\n",
    "    if compound>0.05:\n",
    "        return 'Positive'\n",
    "    elif compound<-0.05:\n",
    "        return 'Negative'\n",
    "    else:\n",
    "        return 'Neutral'\n",
    "\n",
    "data['vader']=data['Reviews'].apply(get_sentiment)\n",
    "print(\"The accuracy score for Hotstar review sentiment prediction is :\",accuracy_score(data['Sentiment_Manual'],data['vader'])*100)"
   ]
  },
  {
   "cell_type": "code",
   "execution_count": 19,
   "metadata": {},
   "outputs": [
    {
     "data": {
      "text/plain": [
       "Positive    47.635068\n",
       "Neutral     33.643380\n",
       "Negative    18.721552\n",
       "Name: vader, dtype: float64"
      ]
     },
     "execution_count": 19,
     "metadata": {},
     "output_type": "execute_result"
    }
   ],
   "source": [
    "# predicted sentiment distribution\n",
    "data.vader.value_counts()/data.shape[0]*100"
   ]
  },
  {
   "cell_type": "code",
   "execution_count": null,
   "metadata": {},
   "outputs": [],
   "source": [
    "from sklearn.model_selection import  train_test_split\n",
    "train,test=train_test_split(,test_size=0.2,random_state=100)"
   ]
  },
  {
   "cell_type": "code",
   "execution_count": null,
   "metadata": {},
   "outputs": [],
   "source": [
    "# Model Comparison's for 4 models\n",
    "DT_model=DecisionTreeClassifier(max_depth=3,criterion='entropy',random_state=0)\n",
    "DT_model.fit(x_train,y_train)\n",
    "pred1=DT_model.predict(x_test)\n",
    "Rf_model=RandomForestClassifier(n_estimators=24,max_depth=9,criterion='entropy',random_state=0)\n",
    "Rf_model.fit(x_train,y_train)\n",
    "pred2=Rf_model.predict(x_test)\n",
    "Nb_model=GaussianNB()\n",
    "Nb_model.fit(x_train,y_train)\n",
    "pred3=Nb_model.predict(x_test)\n",
    "LOr_model=LogisticRegression()\n",
    "LOr_model.fit(x_train,y_train)\n",
    "pred4=LOr_model.predict(x_test)\n",
    "Kn_model=KNeighborsClassifier(n_neighbors=13,weights='uniform',metric='euclidean')\n",
    "Kn_model.fit(x_train,y_train)\n",
    "pred5=Kn_model.predict(x_test)"
   ]
  },
  {
   "cell_type": "code",
   "execution_count": null,
   "metadata": {},
   "outputs": [],
   "source": [
    "# kfold cross validation\n",
    "mod=[]\n",
    "mod.append(('Decision Tree',DT_model))\n",
    "mod.append(('Random Forest',Rf_model))\n",
    "mod.append(('Naive Bayes',Nb_model))\n",
    "mod.append(('Logistic Regression',LOr_model))\n",
    "mod.append(('KNN',Kn_model))\n",
    "result=[]\n",
    "names=[]\n",
    "scoring='accuracy'\n",
    "for name,model in mod:\n",
    "    kfold=model_selection.KFold(n_splits=7,random_state=2)# 5 fold cross validation function\n",
    "    cv_results=model_selection.cross_val_score(model,x_std,y,cv=kfold,scoring='accuracy')\n",
    "    result.append(cv_results)\n",
    "    names.append(name)\n",
    "    msg=\"%s:  Performance Range is  (%1.3f %s %1.3f) with a Varience error of (%f) and mean of %1.3f\"%(name,cv_results.min()*100,'-',cv_results.max()*100,cv_results.std(),cv_results.mean()*100)\n",
    "    print(msg)\n",
    "# boxplot for the models\n",
    "\n",
    "fig=plt.figure(figsize=[10,8])\n",
    "fig.suptitle(\"Algorithm Comparison\")\n",
    "ax=fig.add_subplot(111)\n",
    "plt.boxplot(result)\n",
    "ax.set_xticklabels(names)\n",
    "plt.show()\n"
   ]
  },
  {
   "cell_type": "markdown",
   "metadata": {},
   "source": [
    "# Trending of Customers Sentiment"
   ]
  },
  {
   "cell_type": "code",
   "execution_count": 20,
   "metadata": {},
   "outputs": [
    {
     "data": {
      "text/plain": [
       "array(['8/10/2017', '8/11/2017', '8/12/2017', '8/5/2017', '8/7/2017',\n",
       "       '8/8/2017', '8/6/2017', '8/13/2017', '8/9/2017', '8/4/2017'],\n",
       "      dtype=object)"
      ]
     },
     "execution_count": 20,
     "metadata": {},
     "output_type": "execute_result"
    }
   ],
   "source": [
    "data.Created_Date.unique()"
   ]
  },
  {
   "cell_type": "code",
   "execution_count": 21,
   "metadata": {},
   "outputs": [
    {
     "data": {
      "text/plain": [
       "array(['2017-08-10T00:00:00.000000000', '2017-08-11T00:00:00.000000000',\n",
       "       '2017-08-12T00:00:00.000000000', '2017-08-05T00:00:00.000000000',\n",
       "       '2017-08-07T00:00:00.000000000', '2017-08-08T00:00:00.000000000',\n",
       "       '2017-08-06T00:00:00.000000000', '2017-08-13T00:00:00.000000000',\n",
       "       '2017-08-09T00:00:00.000000000', '2017-08-04T00:00:00.000000000'],\n",
       "      dtype='datetime64[ns]')"
      ]
     },
     "execution_count": 21,
     "metadata": {},
     "output_type": "execute_result"
    }
   ],
   "source": [
    "data['Date']=pd.to_datetime(data.Created_Date)\n",
    "data.Date.unique()"
   ]
  },
  {
   "cell_type": "code",
   "execution_count": 23,
   "metadata": {},
   "outputs": [
    {
     "name": "stdout",
     "output_type": "stream",
     "text": [
      "Date\n",
      "2017-08-04    136\n",
      "2017-08-05    140\n",
      "2017-08-06    120\n",
      "2017-08-07    142\n",
      "2017-08-08     96\n",
      "2017-08-09    335\n",
      "2017-08-10    526\n",
      "2017-08-11    578\n",
      "2017-08-12    272\n",
      "2017-08-13     62\n",
      "Name: vader, dtype: int64\n"
     ]
    }
   ],
   "source": [
    "positive_rows=data[data.vader=='Positive']\n",
    "Negative_rows=data[data.vader=='Negative']\n",
    "neutral_rows=data[data.vader=='Neutral']\n",
    "\n",
    "positive_counts=positive_rows.groupby('Date')['vader'].count()\n",
    "negative_counts=Negative_rows.groupby('Date')['vader'].count()\n",
    "neutral_counts=neutral_rows.groupby('Date')['vader'].count()\n",
    "\n",
    "print(positive_counts)\n"
   ]
  },
  {
   "cell_type": "code",
   "execution_count": 32,
   "metadata": {},
   "outputs": [
    {
     "data": {
      "image/png": "[encoded data removed]",
      "text/plain": [
       "<Figure size 720x576 with 1 Axes>"
      ]
     },
     "metadata": {
      "needs_background": "light"
     },
     "output_type": "display_data"
    }
   ],
   "source": [
    "# trend plot between 2017-08-04  and 2017-08-13  \n",
    "plt.figure(figsize=[10,8])\n",
    "plt.plot(positive_counts,color='green',marker='*',label='Positive trend')\n",
    "plt.plot(negative_counts,color='red',marker='*',label='Negative trend')\n",
    "plt.plot(neutral_counts,color='blue',marker='*',label='Neutral trend')\n",
    "plt.xticks(rotation=90)\n",
    "plt.legend()\n",
    "plt.show()"
   ]
  },
  {
   "cell_type": "code",
   "execution_count": null,
   "metadata": {},
   "outputs": [],
   "source": []
  }
 ],
 "metadata": {
  "kernelspec": {
   "display_name": "Python 3",
   "language": "python",
   "name": "python3"
  },
  "language_info": {
   "codemirror_mode": {
    "name": "ipython",
    "version": 3
   },
   "file_extension": ".py",
   "mimetype": "text/x-python",
   "name": "python",
   "nbconvert_exporter": "python",
   "pygments_lexer": "ipython3",
   "version": "3.7.0"
  }
 },
 "nbformat": 4,
 "nbformat_minor": 2
}
