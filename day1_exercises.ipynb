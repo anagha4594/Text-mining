{
 "cells": [
  {
   "cell_type": "markdown",
   "metadata": {},
   "source": [
    "# Day1: Exercises"
   ]
  },
  {
   "cell_type": "markdown",
   "metadata": {},
   "source": [
    "#### Dataset link: https://github.com/skathirmani/datasets"
   ]
  },
  {
   "cell_type": "code",
   "execution_count": 1,
   "metadata": {},
   "outputs": [],
   "source": [
    "import pandas as pd\n",
    "import nltk\n",
    "import numpy as np\n",
    "from nltk.stem import PorterStemmer\n",
    "from sklearn.feature_extraction.text import CountVectorizer"
   ]
  },
  {
   "cell_type": "markdown",
   "metadata": {},
   "source": [
    "### Analysis on Amazon Reviews"
   ]
  },
  {
   "cell_type": "code",
   "execution_count": 144,
   "metadata": {},
   "outputs": [],
   "source": [
    "amazon_data_path = 'https://github.com/skathirmani/datasets/raw/master/amazon_reviews_11.zip'\n",
    "amazon = pd.read_csv(amazon_data_path)\n",
    "amazon['reviewText'] = amazon['reviewText'].fillna('')\n",
    "#amazon.head(1)"
   ]
  },
  {
   "cell_type": "markdown",
   "metadata": {},
   "source": [
    "### Exercises\n",
    "1. Create word cloud using wordclouds api\n",
    "2. Create a bar chart for bag of word analysis\n",
    "3. Building Document Term Matrix\n",
    "4. Identify top 5 large documents\n",
    "5. Identify percentage of zeros in the document term matrix\n",
    "6. Create a bar chart for top 20 bigrams\n",
    "\n",
    "### Optional\n",
    "7. Correlated Features\n",
    "    - Identify top 50 unigrams\n",
    "    - Extract the relevant columns from DTM\n",
    "    - Create a correlation matrix. Identify highly correlated features"
   ]
  },
  {
   "cell_type": "markdown",
   "metadata": {},
   "source": [
    "## Twitter Analysis"
   ]
  },
  {
   "cell_type": "markdown",
   "metadata": {},
   "source": [
    "1. Identify all hashtags used by Modi\n",
    "2. Identify top 5 hashtags\n",
    "3. Pick one hashtags which is among top 5 and see its monthwise trending (i.e. how many times he has used the hashtags in each month)"
   ]
  },
  {
   "cell_type": "code",
   "execution_count": 182,
   "metadata": {},
   "outputs": [],
   "source": [
    "docs = tweets['text']\n",
    "docs = docs.str.lower()\n",
    "docs = docs.str.replace('[^a-z#@ ]', '')\n",
    "docs = docs.str.split(' ')\n",
    "words_rows = docs.tolist()\n",
    "hashtags = []\n",
    "for row in words_rows:\n",
    "    row_hashtags = [word for word in row if word.startswith('#')]\n",
    "    hashtags.extend(row_hashtags)"
   ]
  },
  {
   "cell_type": "code",
   "execution_count": 220,
   "metadata": {},
   "outputs": [
    {
     "data": {
      "text/plain": [
       "#sandeshsoldiers      108\n",
       "#mannkibaat            91\n",
       "#tirangayatra          84\n",
       "#yogaday               53\n",
       "#transformingindia     52\n",
       "dtype: int64"
      ]
     },
     "execution_count": 220,
     "metadata": {},
     "output_type": "execute_result"
    }
   ],
   "source": [
    "top_hashtags = pd.Series(hashtags).value_counts().head()\n",
    "top_hashtags"
   ]
  },
  {
   "cell_type": "code",
   "execution_count": 233,
   "metadata": {},
   "outputs": [
    {
     "data": {
      "text/plain": [
       "Index(['#sandeshsoldiers', '#mannkibaat', '#tirangayatra', '#yogaday',\n",
       "       '#transformingindia'],\n",
       "      dtype='object')"
      ]
     },
     "execution_count": 233,
     "metadata": {},
     "output_type": "execute_result"
    }
   ],
   "source": [
    "top_hashtags.index"
   ]
  },
  {
   "cell_type": "code",
   "execution_count": 187,
   "metadata": {},
   "outputs": [
    {
     "data": {
      "text/plain": [
       "0   2017-01-31 11:00:07\n",
       "1   2017-01-31 10:59:12\n",
       "2   2017-01-31 10:52:33\n",
       "3   2017-01-31 10:52:22\n",
       "4   2017-01-31 10:52:16\n",
       "Name: date, dtype: datetime64[ns]"
      ]
     },
     "execution_count": 187,
     "metadata": {},
     "output_type": "execute_result"
    }
   ],
   "source": [
    "tweets['date'] = pd.to_datetime(tweets['created_at'])\n",
    "tweets['date'].head()"
   ]
  },
  {
   "cell_type": "code",
   "execution_count": 193,
   "metadata": {},
   "outputs": [
    {
     "data": {
      "text/plain": [
       "(Timestamp('2016-03-09 12:22:10'), Timestamp('2017-01-31 11:00:07'))"
      ]
     },
     "execution_count": 193,
     "metadata": {},
     "output_type": "execute_result"
    }
   ],
   "source": [
    "tweets['date'].min(), tweets['date'].max()"
   ]
  },
  {
   "cell_type": "code",
   "execution_count": 200,
   "metadata": {},
   "outputs": [],
   "source": [
    "tweets['month'] = tweets['date'].dt.month\n",
    "tweets['day'] = tweets['date'].dt.day\n",
    "tweets['year'] = tweets['date'].dt.year\n",
    "tweets['month_name'] = tweets['date'].dt.strftime('%b')\n",
    "tweets['weekday'] = tweets['date'].dt.strftime('%A')"
   ]
  },
  {
   "cell_type": "code",
   "execution_count": 202,
   "metadata": {},
   "outputs": [
    {
     "data": {
      "text/plain": [
       "Jun    413\n",
       "Oct    393\n",
       "Aug    383\n",
       "May    307\n",
       "Jul    303\n",
       "Name: month_name, dtype: int64"
      ]
     },
     "execution_count": 202,
     "metadata": {},
     "output_type": "execute_result"
    }
   ],
   "source": [
    "tweets['month_name'].value_counts().head()"
   ]
  },
  {
   "cell_type": "code",
   "execution_count": 255,
   "metadata": {},
   "outputs": [
    {
     "data": {
      "text/plain": [
       "0    3129\n",
       "1      91\n",
       "Name: mannkibaat, dtype: int64"
      ]
     },
     "execution_count": 255,
     "metadata": {},
     "output_type": "execute_result"
    }
   ],
   "source": [
    "tweets['text'] = tweets['text'].str.lower().str.replace('[^a-z#@ ]', '')\n",
    "tweets['mannkibaat'] = tweets['text'].apply(lambda v: 1 if '#mannkibaat' in \n",
    "                                                            v.split(' ') else 0)\n",
    "tweets['mannkibaat'].value_counts()"
   ]
  },
  {
   "cell_type": "code",
   "execution_count": 256,
   "metadata": {},
   "outputs": [
    {
     "data": {
      "text/plain": [
       "<matplotlib.axes._subplots.AxesSubplot at 0x1e7aa5a30b8>"
      ]
     },
     "execution_count": 256,
     "metadata": {},
     "output_type": "execute_result"
    },
    {
     "data": {
      "image/png": "[encoded data removed]",
      "text/plain": [
       "<Figure size 432x288 with 1 Axes>"
      ]
     },
     "metadata": {},
     "output_type": "display_data"
    }
   ],
   "source": [
    "tweets.index = tweets['date']\n",
    "tweets.resample('1M')['mannkibaat'].sum().plot.line()"
   ]
  }
 ],
 "metadata": {
  "kernelspec": {
   "display_name": "Python 3",
   "language": "python",
   "name": "python3"
  },
  "language_info": {
   "codemirror_mode": {
    "name": "ipython",
    "version": 3
   },
   "file_extension": ".py",
   "mimetype": "text/x-python",
   "name": "python",
   "nbconvert_exporter": "python",
   "pygments_lexer": "ipython3",
   "version": "3.7.0"
  }
 },
 "nbformat": 4,
 "nbformat_minor": 2
}
